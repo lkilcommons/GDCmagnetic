{
 "cells": [
  {
   "cell_type": "code",
   "execution_count": 1,
   "metadata": {},
   "outputs": [],
   "source": [
    "import datetime\n",
    "import pandas as pd\n",
    "import numpy as np\n",
    "import matplotlib.pyplot as plt"
   ]
  },
  {
   "cell_type": "markdown",
   "metadata": {},
   "source": [
    "# Make a function which converts the GDC mission time stamps to fully specified dates and times"
   ]
  },
  {
   "cell_type": "code",
   "execution_count": 2,
   "metadata": {},
   "outputs": [
    {
     "name": "stdout",
     "output_type": "stream",
     "text": [
      "2028-04-01 00:00:00\n"
     ]
    }
   ],
   "source": [
    "\n",
    "# Example date format from GDC Ephemeris\n",
    "exdatestr = ' 91/00:00:00.000'\n",
    "\n",
    "def mission_elapsed_to_datetime(mission_elapsed_time_str):\n",
    "    \"\"\"\n",
    "    Time stamps are assumed specified as follows:\n",
    "    DOY2028/HH:MM:SS.000\n",
    "    Where DOY2028 is the number of days since 2028/1/1\n",
    "    Mission starts on DOY2028 = 91, April 1, 2028\n",
    "    \"\"\"\n",
    "    \n",
    "    doy2028str,tstr = mission_elapsed_time_str.split('/')\n",
    "    doy2028 = int(doy2028str)\n",
    "    \n",
    "    # All timestamps appear to end with .000 (the data is at whole second cadence)\n",
    "    # so we will hard code the .000 as part of the format\n",
    "    tfmt = '%H:%M:%S.000'\n",
    "    \n",
    "    #Read in as a Python time\n",
    "    time = datetime.datetime.strptime(tstr,tfmt).time()\n",
    "    \n",
    "    date = datetime.date(2028,1,1)+datetime.timedelta(days=doy2028)\n",
    "    return pd.to_datetime(datetime.datetime.combine(date,time))\n",
    "    \n",
    "print(mission_elapsed_to_datetime(exdatestr))"
   ]
  },
  {
   "cell_type": "markdown",
   "metadata": {},
   "source": [
    "# Read the text file using Pandas"
   ]
  },
  {
   "cell_type": "code",
   "execution_count": 3,
   "metadata": {},
   "outputs": [],
   "source": [
    "gdc_input_fn = 'GDC_Ephemeris_G1_Phase1a.txt'\n",
    "df = pd.read_csv(gdc_input_fn,\n",
    "                sep='\\s+', #Any number of spaces is the seperator\n",
    "                converters={0:mission_elapsed_to_datetime},#Convert the mission elapsed time format (column 0) to a fully specified date & time\n",
    "                skiprows=6,\n",
    "                names = ['time','x','y','z'],\n",
    "                usecols = [0,1,2,3], #Only read the first 4 columns (ECI J2000 position)\n",
    "                index_col=0 #Make the dataframe index by time\n",
    "                )"
   ]
  },
  {
   "cell_type": "code",
   "execution_count": 4,
   "metadata": {},
   "outputs": [
    {
     "data": {
      "text/html": [
       "<div>\n",
       "<style scoped>\n",
       "    .dataframe tbody tr th:only-of-type {\n",
       "        vertical-align: middle;\n",
       "    }\n",
       "\n",
       "    .dataframe tbody tr th {\n",
       "        vertical-align: top;\n",
       "    }\n",
       "\n",
       "    .dataframe thead th {\n",
       "        text-align: right;\n",
       "    }\n",
       "</style>\n",
       "<table border=\"1\" class=\"dataframe\">\n",
       "  <thead>\n",
       "    <tr style=\"text-align: right;\">\n",
       "      <th></th>\n",
       "      <th>x</th>\n",
       "      <th>y</th>\n",
       "      <th>z</th>\n",
       "    </tr>\n",
       "    <tr>\n",
       "      <th>time</th>\n",
       "      <th></th>\n",
       "      <th></th>\n",
       "      <th></th>\n",
       "    </tr>\n",
       "  </thead>\n",
       "  <tbody>\n",
       "    <tr>\n",
       "      <th>2028-04-01 00:00:00</th>\n",
       "      <td>-5390.990</td>\n",
       "      <td>-1724.765</td>\n",
       "      <td>-3664.336</td>\n",
       "    </tr>\n",
       "    <tr>\n",
       "      <th>2028-04-01 00:00:30</th>\n",
       "      <td>-5257.535</td>\n",
       "      <td>-1727.603</td>\n",
       "      <td>-3852.299</td>\n",
       "    </tr>\n",
       "    <tr>\n",
       "      <th>2028-04-01 00:01:00</th>\n",
       "      <td>-5117.934</td>\n",
       "      <td>-1728.422</td>\n",
       "      <td>-4035.746</td>\n",
       "    </tr>\n",
       "    <tr>\n",
       "      <th>2028-04-01 00:01:30</th>\n",
       "      <td>-4972.352</td>\n",
       "      <td>-1727.221</td>\n",
       "      <td>-4214.463</td>\n",
       "    </tr>\n",
       "    <tr>\n",
       "      <th>2028-04-01 00:02:00</th>\n",
       "      <td>-4820.961</td>\n",
       "      <td>-1724.002</td>\n",
       "      <td>-4388.242</td>\n",
       "    </tr>\n",
       "  </tbody>\n",
       "</table>\n",
       "</div>"
      ],
      "text/plain": [
       "                            x         y         z\n",
       "time                                             \n",
       "2028-04-01 00:00:00 -5390.990 -1724.765 -3664.336\n",
       "2028-04-01 00:00:30 -5257.535 -1727.603 -3852.299\n",
       "2028-04-01 00:01:00 -5117.934 -1728.422 -4035.746\n",
       "2028-04-01 00:01:30 -4972.352 -1727.221 -4214.463\n",
       "2028-04-01 00:02:00 -4820.961 -1724.002 -4388.242"
      ]
     },
     "execution_count": 4,
     "metadata": {},
     "output_type": "execute_result"
    }
   ],
   "source": [
    "df.head()"
   ]
  },
  {
   "cell_type": "markdown",
   "metadata": {},
   "source": [
    "# Use open source libraries (geospacepy-lite and apexpy) to convert coordinates\n",
    "Find more information about these tools below:\n",
    "* [geospacepy-lite](http://github.com/lkilcommons/geospacepy-lite)\n",
    "* [apexpy](https://github.com/aburrell/apexpy)"
   ]
  },
  {
   "cell_type": "code",
   "execution_count": 5,
   "metadata": {},
   "outputs": [],
   "source": [
    "from apexpy import Apex\n",
    "apex = Apex()\n",
    "apex.set_epoch(2028.4) #Date for IGRF evaluationt\n",
    "apex.set_refh(110) #Reference altitude for Apex coordinates is 110 kilometers"
   ]
  },
  {
   "cell_type": "code",
   "execution_count": 6,
   "metadata": {},
   "outputs": [],
   "source": [
    "from geospacepy.terrestrial_spherical import eci2ecef\n",
    "from geospacepy.terrestrial_ellipsoidal import ecef_cart2geodetic\n",
    "from geospacepy.special_datetime import datetimearr2jd\n",
    "\n",
    "def datetime64_to_datetime(dt64):\n",
    "    \"\"\"black magic to convert a datetime64 (date format used by pandas) to a Python datetime\"\"\"\n",
    "    return dt64.astype('M8[ms]').astype('O')"
   ]
  },
  {
   "cell_type": "code",
   "execution_count": 7,
   "metadata": {},
   "outputs": [],
   "source": [
    "dts = [datetime64_to_datetime(dt64) for dt64 in df.index.values] # Make list of Python datetimes from Pandas datetimes\n",
    "jds = datetimearr2jd(dts) #Convert to Julian dates (format required for ECI to ECEF conversion)\n",
    "#Convert ECI to geodetic, and then to Apex\n",
    "R_ECI = np.column_stack([df['x'].values,df['y'].values,df['z'].values])\n",
    "R_ECEF = eci2ecef(R_ECI,jds)\n",
    "gdlat,glon,alt_m = ecef_cart2geodetic(R_ECEF*1000.) #Expects/returns units of meters\n",
    "alt_km = alt_m/1000.\n",
    "alat,alon = apex.geo2apex(gdlat,glon,alt_km) #Expects altitude in km\n",
    "\n",
    "#Calculate magnetic local time of each spacecraft position\n",
    "mlt = np.full_like(alat,np.nan)\n",
    "for i in range(alat.size):\n",
    "    mlt[i]=apex.mlon2mlt(alon[i],dts[i])\n",
    "\n",
    "#Add geodetic and apex locations to dataframe\n",
    "df['gdlat']=gdlat\n",
    "df['glon']=glon\n",
    "df['alt_km']=alt_km\n",
    "df['apex110lat']=alat\n",
    "df['apex110lon']=alon\n",
    "df['mlt']=mlt"
   ]
  },
  {
   "cell_type": "markdown",
   "metadata": {},
   "source": [
    "# Write out the magnetic coordinates positions using Pandas"
   ]
  },
  {
   "cell_type": "code",
   "execution_count": 11,
   "metadata": {},
   "outputs": [],
   "source": [
    "import os\n",
    "gdc_output_fn = os.path.splitext(gdc_input_fn)[0]+'_Apex.csv'\n",
    "df.to_csv(gdc_output_fn)"
   ]
  }
 ],
 "metadata": {
  "kernelspec": {
   "display_name": "Python 3",
   "language": "python",
   "name": "python3"
  },
  "language_info": {
   "codemirror_mode": {
    "name": "ipython",
    "version": 3
   },
   "file_extension": ".py",
   "mimetype": "text/x-python",
   "name": "python",
   "nbconvert_exporter": "python",
   "pygments_lexer": "ipython3",
   "version": "3.7.4"
  }
 },
 "nbformat": 4,
 "nbformat_minor": 2
}
