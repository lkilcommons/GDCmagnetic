{
 "cells": [
  {
   "cell_type": "markdown",
   "metadata": {},
   "source": [
    "# Plot GDC position in Earth Centered Inertial and Magnetic (Apex) Coordinates"
   ]
  },
  {
   "cell_type": "code",
   "execution_count": null,
   "metadata": {},
   "outputs": [],
   "source": [
    "import numpy as np\n",
    "import pandas as pd\n",
    "#Load data written out in Convert notebook using Pandas\n",
    "df = pd.read_csv('GDC_Ephemeris_G1_Phase1a_Apex.csv',parse_dates=[0],index_col=0)\n",
    "df.head(3)"
   ]
  },
  {
   "cell_type": "code",
   "execution_count": 1,
   "metadata": {
    "scrolled": false
   },
   "outputs": [
    {
     "ename": "NameError",
     "evalue": "name 'df' is not defined",
     "output_type": "error",
     "traceback": [
      "\u001b[0;31m---------------------------------------------------------------------------\u001b[0m",
      "\u001b[0;31mNameError\u001b[0m                                 Traceback (most recent call last)",
      "\u001b[0;32m<ipython-input-1-b1861c1b41b7>\u001b[0m in \u001b[0;36m<module>\u001b[0;34m\u001b[0m\n\u001b[1;32m     18\u001b[0m \u001b[0miplot\u001b[0m\u001b[0;34m=\u001b[0m\u001b[0;36m1\u001b[0m\u001b[0;34m\u001b[0m\u001b[0;34m\u001b[0m\u001b[0m\n\u001b[1;32m     19\u001b[0m \u001b[0mmaxplots\u001b[0m\u001b[0;34m=\u001b[0m\u001b[0;36m10\u001b[0m\u001b[0;34m\u001b[0m\u001b[0;34m\u001b[0m\u001b[0m\n\u001b[0;32m---> 20\u001b[0;31m \u001b[0;32mwhile\u001b[0m \u001b[0mied\u001b[0m \u001b[0;34m<\u001b[0m \u001b[0mdf\u001b[0m\u001b[0;34m.\u001b[0m\u001b[0mindex\u001b[0m\u001b[0;34m.\u001b[0m\u001b[0msize\u001b[0m \u001b[0;32mand\u001b[0m \u001b[0miplot\u001b[0m\u001b[0;34m<\u001b[0m\u001b[0mmaxplots\u001b[0m\u001b[0;34m:\u001b[0m\u001b[0;34m\u001b[0m\u001b[0;34m\u001b[0m\u001b[0m\n\u001b[0m\u001b[1;32m     21\u001b[0m \u001b[0;34m\u001b[0m\u001b[0m\n\u001b[1;32m     22\u001b[0m     \u001b[0msubdf\u001b[0m \u001b[0;34m=\u001b[0m \u001b[0mdf\u001b[0m\u001b[0;34m.\u001b[0m\u001b[0miloc\u001b[0m\u001b[0;34m[\u001b[0m\u001b[0mist\u001b[0m\u001b[0;34m:\u001b[0m\u001b[0mied\u001b[0m\u001b[0;34m]\u001b[0m\u001b[0;34m\u001b[0m\u001b[0;34m\u001b[0m\u001b[0m\n",
      "\u001b[0;31mNameError\u001b[0m: name 'df' is not defined"
     ]
    }
   ],
   "source": [
    "import matplotlib.pyplot as plt\n",
    "from mpl_toolkits.mplot3d import Axes3D\n",
    "from polar_plot import latlt2polar,polar2dial\n",
    "\n",
    "def draw_3d_earth(ax):\n",
    "    \"\"\"Draw a transparent sphere on an mplot3d axes object\"\"\"\n",
    "    re=6371.2\n",
    "    phi = np.linspace(0, 2 * np.pi, 100)\n",
    "    theta = np.linspace(0, np.pi, 100)\n",
    "    xm = re * np.outer(np.cos(phi), np.sin(theta))\n",
    "    ym = re * np.outer(np.sin(phi), np.sin(theta))\n",
    "    zm = re * np.outer(np.ones(np.size(phi)), np.cos(theta))\n",
    "    ax.plot_surface(xm, ym, zm,alpha=.5)\n",
    " \n",
    "istep=int(91*60/30) #91 minutes (very rough orbital period) at 30 second cadence\n",
    "ist=0\n",
    "ied=istep\n",
    "iplot=1\n",
    "maxplots=10\n",
    "while ied < df.index.size and iplot<maxplots:\n",
    "    \n",
    "    subdf = df.iloc[ist:ied]\n",
    "    \n",
    "    f3d = plt.figure(figsize=(10,8),dpi=300)\n",
    "    fNS = plt.figure(figsize=(8,4),dpi=300)\n",
    "    ax3d = f3d.add_subplot(111,projection='3d')\n",
    "    axN = fNS.add_subplot(121,projection='polar')\n",
    "    axS = fNS.add_subplot(122,projection='polar')\n",
    "    polar2dial(axN)\n",
    "    polar2dial(axS)\n",
    "    axN.set(title='North')\n",
    "    axS.set(title='South')\n",
    "\n",
    "    cmap='rainbow'\n",
    "\n",
    "    ind = np.arange(subdf.index.size)\n",
    "    \n",
    "    draw_3d_earth(ax3d)\n",
    "    mappable = ax3d.scatter(subdf['x'],subdf['y'],subdf['z'],s=3,c=ind,cmap=cmap,zorder=10)\n",
    "    f3d.colorbar(mappable)\n",
    "\n",
    "    for mask,ax,hemi in [(subdf['apex110lat']>50,axN,'N'),(subdf['apex110lat']<-50,axS,'S')]:\n",
    "        r,th = latlt2polar(subdf['apex110lat'][mask],subdf['mlt'][mask],hemi)\n",
    "        ax.scatter(th,r,3,ind[mask],cmap=cmap,vmin=ind[0],vmax=ind[-1])\n",
    "    \n",
    "    for f in [f3d,fNS]:\n",
    "        f.suptitle('{}-{}'.format(pd.to_datetime(subdf.index.values[0]),pd.to_datetime(subdf.index.values[-1])))\n",
    "    \n",
    "    plt.show()\n",
    "    \n",
    "    ist+=istep\n",
    "    ied+=istep\n",
    "    iplot+=1"
   ]
  },
  {
   "cell_type": "code",
   "execution_count": null,
   "metadata": {},
   "outputs": [],
   "source": []
  }
 ],
 "metadata": {
  "kernelspec": {
   "display_name": "Python 3",
   "language": "python",
   "name": "python3"
  },
  "language_info": {
   "codemirror_mode": {
    "name": "ipython",
    "version": 3
   },
   "file_extension": ".py",
   "mimetype": "text/x-python",
   "name": "python",
   "nbconvert_exporter": "python",
   "pygments_lexer": "ipython3",
   "version": "3.7.4"
  }
 },
 "nbformat": 4,
 "nbformat_minor": 2
}
